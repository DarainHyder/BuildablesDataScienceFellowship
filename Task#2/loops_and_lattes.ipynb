{
 "cells": [
  {
   "cell_type": "markdown",
   "id": "7276891c",
   "metadata": {},
   "source": [
    "## Exercise 1"
   ]
  },
  {
   "cell_type": "code",
   "execution_count": 3,
   "id": "6917fa4f",
   "metadata": {},
   "outputs": [
    {
     "name": "stdout",
     "output_type": "stream",
     "text": [
      "Enter a word: detartrated\n",
      "detartrated is a palindrome.\n"
     ]
    }
   ],
   "source": [
    "# 1. Palindrome Checker (Word)\n",
    "word = input(\"Enter a word: \")\n",
    "\n",
    "print(f\"Enter a word: {word}\")\n",
    "if word == word[::-1]:\n",
    "    print(f\"{word} is a palindrome.\")\n",
    "else:\n",
    "    print(f\"{word} is not a palindrome.\")"
   ]
  },
  {
   "cell_type": "markdown",
   "id": "b4058978",
   "metadata": {},
   "source": [
    "## Exercise 2"
   ]
  },
  {
   "cell_type": "code",
   "execution_count": 4,
   "id": "22e66f39",
   "metadata": {},
   "outputs": [
    {
     "name": "stdout",
     "output_type": "stream",
     "text": [
      "1\n",
      "2\n",
      "Fizz\n",
      "4\n",
      "Buzz\n",
      "Fizz\n",
      "7\n",
      "8\n",
      "Fizz\n",
      "Buzz\n",
      "11\n",
      "Fizz\n",
      "13\n",
      "14\n",
      "FizzBuzz\n",
      "16\n",
      "17\n",
      "Fizz\n",
      "19\n",
      "Buzz\n",
      "Fizz\n",
      "22\n",
      "23\n",
      "Fizz\n",
      "Buzz\n",
      "26\n",
      "Fizz\n",
      "28\n",
      "29\n",
      "FizzBuzz\n",
      "31\n",
      "32\n",
      "Fizz\n",
      "34\n",
      "Buzz\n",
      "Fizz\n",
      "37\n",
      "38\n",
      "Fizz\n",
      "Buzz\n",
      "41\n",
      "Fizz\n",
      "43\n",
      "44\n",
      "FizzBuzz\n",
      "46\n",
      "47\n",
      "Fizz\n",
      "49\n",
      "Buzz\n",
      "Fizz\n",
      "52\n",
      "53\n",
      "Fizz\n",
      "Buzz\n",
      "56\n",
      "Fizz\n",
      "58\n",
      "59\n",
      "FizzBuzz\n",
      "61\n",
      "62\n",
      "Fizz\n",
      "64\n",
      "Buzz\n",
      "Fizz\n",
      "67\n",
      "68\n",
      "Fizz\n",
      "Buzz\n",
      "71\n",
      "Fizz\n",
      "73\n",
      "74\n",
      "FizzBuzz\n",
      "76\n",
      "77\n",
      "Fizz\n",
      "79\n",
      "Buzz\n",
      "Fizz\n",
      "82\n",
      "83\n",
      "Fizz\n",
      "Buzz\n",
      "86\n",
      "Fizz\n",
      "88\n",
      "89\n",
      "FizzBuzz\n",
      "91\n",
      "92\n",
      "Fizz\n",
      "94\n",
      "Buzz\n",
      "Fizz\n",
      "97\n",
      "98\n",
      "Fizz\n",
      "Buzz\n"
     ]
    }
   ],
   "source": [
    "# 2. FizzBuzz\n",
    "for i in range(1, 101):\n",
    "    if i % 3 == 0 and i % 5 == 0:\n",
    "        print(\"FizzBuzz\")\n",
    "    elif i % 3 == 0:\n",
    "        print(\"Fizz\")\n",
    "    elif i % 5 == 0:\n",
    "        print(\"Buzz\")\n",
    "    else:\n",
    "        print(i)"
   ]
  },
  {
   "cell_type": "markdown",
   "id": "d3df765d",
   "metadata": {},
   "source": [
    "## Exercise 3"
   ]
  },
  {
   "cell_type": "code",
   "execution_count": 5,
   "id": "87067127",
   "metadata": {},
   "outputs": [
    {
     "name": "stdout",
     "output_type": "stream",
     "text": [
      "Enter n: 14\n",
      "The 14th Fibonacci number is 233.\n"
     ]
    }
   ],
   "source": [
    "# 3. Nth Fibonacci Number\n",
    "n = int(input(\"Enter n: \"))\n",
    "\n",
    "print(f\"Enter n: {n}\")\n",
    "a, b = 0, 1\n",
    "for _ in range(n-1):\n",
    "    a, b = b, a+b\n",
    "print(f\"The {n}th Fibonacci number is {a}.\")"
   ]
  },
  {
   "cell_type": "markdown",
   "id": "50e58426",
   "metadata": {},
   "source": [
    "## Exercise 4"
   ]
  },
  {
   "cell_type": "code",
   "execution_count": 6,
   "id": "a5ca055c",
   "metadata": {},
   "outputs": [
    {
     "name": "stdout",
     "output_type": "stream",
     "text": [
      "Enter a number: 27\n",
      "27 is not a prime number.\n"
     ]
    }
   ],
   "source": [
    "# 4. Prime Number Checker\n",
    "num = int(input(\"Enter a number: \"))\n",
    "\n",
    "print(f\"Enter a number: {num}\")\n",
    "if num > 1 and all(num % i != 0 for i in range(2, int(num**0.5) + 1)):\n",
    "    print(f\"{num} is a prime number.\")\n",
    "else:\n",
    "    print(f\"{num} is not a prime number.\")"
   ]
  },
  {
   "cell_type": "markdown",
   "id": "a2b3a3cb",
   "metadata": {},
   "source": [
    "## Exercise 5"
   ]
  },
  {
   "cell_type": "code",
   "execution_count": 7,
   "id": "1b6937f1",
   "metadata": {},
   "outputs": [
    {
     "name": "stdout",
     "output_type": "stream",
     "text": [
      "Guess a number between 1 and 100: 12\n",
      "Too low!\n",
      "Guess a number between 1 and 100: 55\n",
      "Too low!\n",
      "Guess a number between 1 and 100: 79\n",
      "Too low!\n",
      "Guess a number between 1 and 100: 99\n",
      "Too high!\n",
      "Guess a number between 1 and 100: 91\n",
      "Too high!\n",
      "Guess a number between 1 and 100: 88\n",
      "Too low!\n",
      "Guess a number between 1 and 100: 89\n",
      "Too low!\n",
      "Guess a number between 1 and 100: 90\n",
      "Correct!\n"
     ]
    }
   ],
   "source": [
    "# 5. Guess the Number Game\n",
    "import random\n",
    "\n",
    "target = random.randint(1, 100)\n",
    "guess = None\n",
    "\n",
    "while guess != target:\n",
    "    guess = int(input(\"Guess a number between 1 and 100: \"))\n",
    "    print(f\"Guess a number between 1 and 100: {guess}\")\n",
    "    if guess < target:\n",
    "        print(\"Too low!\")\n",
    "    elif guess > target:\n",
    "        print(\"Too high!\")\n",
    "    else:\n",
    "        print(\"Correct!\")"
   ]
  },
  {
   "cell_type": "markdown",
   "id": "eb940676",
   "metadata": {},
   "source": [
    "## Exercise 6"
   ]
  },
  {
   "cell_type": "code",
   "execution_count": 8,
   "id": "d7c2230f",
   "metadata": {},
   "outputs": [
    {
     "name": "stdout",
     "output_type": "stream",
     "text": [
      "[1, 4, 9, 16, 25, 36, 49, 64, 81, 100]\n"
     ]
    }
   ],
   "source": [
    "# 6. List Comprehension\n",
    "squares = [i**2 for i in range(1, 11)]\n",
    "print(squares)"
   ]
  },
  {
   "cell_type": "markdown",
   "id": "43b4852d",
   "metadata": {},
   "source": [
    "## Exercise 7"
   ]
  },
  {
   "cell_type": "code",
   "execution_count": 9,
   "id": "ab744377",
   "metadata": {},
   "outputs": [
    {
     "name": "stdout",
     "output_type": "stream",
     "text": [
      "Enter a sentence: Evil is a name of a foeman, as I live\n",
      "is a palindrome.\n"
     ]
    }
   ],
   "source": [
    "# 7. Palindrome Sentences\n",
    "import string\n",
    "\n",
    "sentence = input(\"Enter a sentence: \")\n",
    "\n",
    "cleaned = ''.join(ch.lower() for ch in sentence if ch.isalnum())\n",
    "print(f\"Enter a sentence: {sentence}\")\n",
    "if cleaned == cleaned[::-1]:\n",
    "    print(\"is a palindrome.\")\n",
    "else:\n",
    "    print(\"is not a palindrome.\")"
   ]
  },
  {
   "cell_type": "markdown",
   "id": "53d0e04b",
   "metadata": {},
   "source": [
    "## Exercise 8"
   ]
  },
  {
   "cell_type": "code",
   "execution_count": 11,
   "id": "6845a6da",
   "metadata": {},
   "outputs": [
    {
     "name": "stdout",
     "output_type": "stream",
     "text": [
      "Enter first word: a gentleman\n",
      "Enter second word: elegant man\n",
      "are anagrams.\n"
     ]
    }
   ],
   "source": [
    "# 8. Anagram Checker\n",
    "w1 = input(\"Enter first word: \")\n",
    "w2 = input(\"Enter second word: \")\n",
    "\n",
    "print(f\"Enter first word: {w1}\")\n",
    "print(f\"Enter second word: {w2}\")\n",
    "if sorted(w1.lower()) == sorted(w2.lower()):\n",
    "    print(\"are anagrams.\")\n",
    "else:\n",
    "    print(\"are not anagrams.\")"
   ]
  },
  {
   "cell_type": "markdown",
   "id": "42ed48f0",
   "metadata": {},
   "source": [
    "## Exercise 9"
   ]
  },
  {
   "cell_type": "code",
   "execution_count": 12,
   "id": "5730c553",
   "metadata": {},
   "outputs": [
    {
     "name": "stdout",
     "output_type": "stream",
     "text": [
      "Enter a sentence: Wanderlust in my veins\n",
      "veins my in Wanderlust\n"
     ]
    }
   ],
   "source": [
    "# 9. Reverse Words in a Sentence\n",
    "sentence = input(\"Enter a sentence: \")\n",
    "\n",
    "print(f\"Enter a sentence: {sentence}\")\n",
    "words = sentence.split()[::-1]\n",
    "print(\" \".join(words))"
   ]
  },
  {
   "cell_type": "markdown",
   "id": "5be70d38",
   "metadata": {},
   "source": [
    "## Exercise 10"
   ]
  },
  {
   "cell_type": "code",
   "execution_count": 13,
   "id": "47e2723e",
   "metadata": {},
   "outputs": [
    {
     "name": "stdout",
     "output_type": "stream",
     "text": [
      "Enter temperature in Celsius: 21.0\n",
      "21.0°C = 69.8°F = 294.15K\n"
     ]
    }
   ],
   "source": [
    "# 10. Temperature Converter\n",
    "temp = float(input(\"Enter temperature in Celsius: \"))\n",
    "\n",
    "print(f\"Enter temperature in Celsius: {temp}\")\n",
    "f = (temp * 9/5) + 32\n",
    "k = temp + 273.15\n",
    "print(f\"{temp}°C = {f}°F = {k}K\")"
   ]
  },
  {
   "cell_type": "markdown",
   "id": "073fa3a5",
   "metadata": {},
   "source": [
    "## Exercise 11"
   ]
  },
  {
   "cell_type": "code",
   "execution_count": 14,
   "id": "e2b2d582",
   "metadata": {},
   "outputs": [
    {
     "name": "stdout",
     "output_type": "stream",
     "text": [
      "0\n",
      "2\n",
      "4\n",
      "6\n",
      "8\n",
      "10\n"
     ]
    }
   ],
   "source": [
    "# 11. Custom Iterator: Even Numbers\n",
    "class EvenNumbers:\n",
    "    def __init__(self, limit):\n",
    "        self.limit = limit\n",
    "        self.current = 0\n",
    "    \n",
    "    def __iter__(self):\n",
    "        return self\n",
    "    \n",
    "    def __next__(self):\n",
    "        if self.current > self.limit:\n",
    "            raise StopIteration\n",
    "        else:\n",
    "            val = self.current\n",
    "            self.current += 2\n",
    "            return val\n",
    "\n",
    "it = EvenNumbers(10)\n",
    "for num in it:\n",
    "    print(num)"
   ]
  }
 ],
 "metadata": {
  "kernelspec": {
   "display_name": "Python 3",
   "language": "python",
   "name": "python3"
  },
  "language_info": {
   "codemirror_mode": {
    "name": "ipython",
    "version": 3
   },
   "file_extension": ".py",
   "mimetype": "text/x-python",
   "name": "python",
   "nbconvert_exporter": "python",
   "pygments_lexer": "ipython3",
   "version": "3.13.5"
  }
 },
 "nbformat": 4,
 "nbformat_minor": 5
}
