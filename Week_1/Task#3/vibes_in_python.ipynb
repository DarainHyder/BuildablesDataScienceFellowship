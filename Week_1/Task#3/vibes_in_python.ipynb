{
 "cells": [
  {
   "cell_type": "markdown",
   "id": "7bd3c92c",
   "metadata": {},
   "source": [
    "## Exercise 1"
   ]
  },
  {
   "cell_type": "code",
   "execution_count": 1,
   "id": "ee866578",
   "metadata": {},
   "outputs": [
    {
     "name": "stdout",
     "output_type": "stream",
     "text": [
      "Enter a number: 12\n",
      "The factorial of 12 is 479001600.\n"
     ]
    }
   ],
   "source": [
    "# Task 1: Recursive Factorial\n",
    "def factorial(n):\n",
    "    if n == 0 or n == 1:\n",
    "        return 1\n",
    "    return n * factorial(n-1)\n",
    "\n",
    "num = int(input(\"Enter a number: \"))\n",
    "print(f\"Enter a number: {num}\")\n",
    "print(f\"The factorial of {num} is {factorial(num)}.\")"
   ]
  },
  {
   "cell_type": "markdown",
   "id": "38c505f7",
   "metadata": {},
   "source": [
    "## Exercise 2"
   ]
  },
  {
   "cell_type": "code",
   "execution_count": 2,
   "id": "d4c3a136",
   "metadata": {},
   "outputs": [
    {
     "name": "stdout",
     "output_type": "stream",
     "text": [
      "The linked list is a palindrome.\n"
     ]
    }
   ],
   "source": [
    "# Task 2: Palindrome Linked List\n",
    "class Node:\n",
    "    def __init__(self, val):\n",
    "        self.val = val\n",
    "        self.next = None\n",
    "\n",
    "def is_palindrome(head):\n",
    "    values = []\n",
    "    while head:\n",
    "        values.append(head.val)\n",
    "        head = head.next\n",
    "    return values == values[::-1]\n",
    "\n",
    "# usage\n",
    "nodes = [Node(i) for i in [1, 2, 3, 2, 1]]\n",
    "for i in range(len(nodes)-1):   # link the nodes\n",
    "    nodes[i].next = nodes[i+1]\n",
    "\n",
    "print(\"The linked list is a palindrome.\" if is_palindrome(nodes[0]) else \"The linked list is not a palindrome.\")\n"
   ]
  },
  {
   "cell_type": "markdown",
   "id": "7cfb8e2b",
   "metadata": {},
   "source": [
    "## Exercise 3"
   ]
  },
  {
   "cell_type": "code",
   "execution_count": 7,
   "id": "99d5da79",
   "metadata": {},
   "outputs": [
    {
     "name": "stdout",
     "output_type": "stream",
     "text": [
      "Input arrays: [12, 14, 21], [5, 13, 99]\n",
      "Merged array: [5, 12, 13, 14, 21, 99]\n"
     ]
    }
   ],
   "source": [
    "# Task 3: Merge Sorted Arrays\n",
    "def merge_sorted(arr1, arr2):\n",
    "    i = j = 0\n",
    "    merged = []\n",
    "    while i < len(arr1) and j < len(arr2):\n",
    "        if arr1[i] < arr2[j]:\n",
    "            merged.append(arr1[i])\n",
    "            i += 1\n",
    "        else:\n",
    "            merged.append(arr2[j])\n",
    "            j += 1\n",
    "    merged.extend(arr1[i:])\n",
    "    merged.extend(arr2[j:])\n",
    "    return merged\n",
    "\n",
    "a1 = sorted([12, 14, 21])\n",
    "a2 = sorted([5, 99, 13])\n",
    "print(f\"Input arrays: {a1}, {a2}\")\n",
    "print(\"Merged array:\", merge_sorted(a1, a2))"
   ]
  },
  {
   "cell_type": "markdown",
   "id": "9f35d2ab",
   "metadata": {},
   "source": [
    "## Exercise 4"
   ]
  },
  {
   "cell_type": "code",
   "execution_count": 10,
   "id": "418fd556",
   "metadata": {},
   "outputs": [
    {
     "name": "stdout",
     "output_type": "stream",
     "text": [
      "Inorder traversal of BST: [3, 5, 6, 7, 8, 12, 14]\n",
      "Search 4: Not found\n",
      "Search 21: Not found\n",
      "Search 12: Found\n"
     ]
    }
   ],
   "source": [
    "# Task 4: Binary Search Tree\n",
    "class BSTNode:\n",
    "    def __init__(self, val):\n",
    "        self.val = val\n",
    "        self.left = None\n",
    "        self.right = None\n",
    "\n",
    "class BST:\n",
    "    def __init__(self):\n",
    "        self.root = None\n",
    "\n",
    "    def insert(self, val):\n",
    "        def _insert(root, val):\n",
    "            if not root:\n",
    "                return BSTNode(val)\n",
    "            if val < root.val:\n",
    "                root.left = _insert(root.left, val)\n",
    "            else:\n",
    "                root.right = _insert(root.right, val)\n",
    "            return root\n",
    "        self.root = _insert(self.root, val)\n",
    "\n",
    "    def search(self, val):\n",
    "        def _search(root, val):\n",
    "            if not root or root.val == val:\n",
    "                return root\n",
    "            return _search(root.left, val) if val < root.val else _search(root.right, val)\n",
    "        return _search(self.root, val)\n",
    "\n",
    "    def inorder(self):\n",
    "        res = []\n",
    "        def _inorder(root):\n",
    "            if root:\n",
    "                _inorder(root.left)\n",
    "                res.append(root.val)\n",
    "                _inorder(root.right)\n",
    "        _inorder(self.root)\n",
    "        return res\n",
    "\n",
    "bst = BST()\n",
    "for x in [5, 3, 7, 12, 14, 6, 8]:\n",
    "    bst.insert(x)\n",
    "\n",
    "print(\"Inorder traversal of BST:\", bst.inorder())\n",
    "print(\"Search 4:\", \"Found\" if bst.search(4) else \"Not found\")\n",
    "print(\"Search 21:\", \"Found\" if bst.search(21) else \"Not found\")\n",
    "print(\"Search 12:\", \"Found\" if bst.search(12) else \"Not found\")"
   ]
  },
  {
   "cell_type": "markdown",
   "id": "7f30ebbe",
   "metadata": {},
   "source": [
    "## Exercise 5"
   ]
  },
  {
   "cell_type": "code",
   "execution_count": 13,
   "id": "452b8b37",
   "metadata": {},
   "outputs": [
    {
     "name": "stdout",
     "output_type": "stream",
     "text": [
      "Input: 10010011101\n",
      "Longest Palindromic Substring: 1001001\n"
     ]
    }
   ],
   "source": [
    "# Task 5: Longest Palindromic Substring\n",
    "def longest_palindrome(s):\n",
    "    res = \"\"\n",
    "    for i in range(len(s)):\n",
    "        for j in range(i, len(s)):\n",
    "            sub = s[i:j+1]\n",
    "            if sub == sub[::-1] and len(sub) > len(res):    # This means that if we found a longer palindromic substring then we update our result\n",
    "                res = sub\n",
    "    return res\n",
    "\n",
    "s = \"10010011101\"\n",
    "print(f\"Input: {s}\")\n",
    "print(\"Longest Palindromic Substring:\", longest_palindrome(s))"
   ]
  },
  {
   "cell_type": "markdown",
   "id": "548aed26",
   "metadata": {},
   "source": [
    "## Exercise 6"
   ]
  },
  {
   "cell_type": "code",
   "execution_count": 16,
   "id": "6c685e5e",
   "metadata": {},
   "outputs": [
    {
     "name": "stdout",
     "output_type": "stream",
     "text": [
      "Input: [(1, 3), (2, 6), (8, 10), (14, 16), (15, 18)]\n",
      "Merged: [(1, 6), (8, 10), (14, 18)]\n"
     ]
    }
   ],
   "source": [
    "# Task 6: Merge Intervals\n",
    "def merge_intervals(intervals):\n",
    "    intervals.sort(key=lambda x: x[0]) # This lambda function is used to sort the intervals based on their start times\n",
    "    merged = [intervals[0]]\n",
    "    for start, end in intervals[1:]:\n",
    "        last_end = merged[-1][1]\n",
    "        if start <= last_end:\n",
    "            merged[-1] = (merged[-1][0], max(last_end, end))\n",
    "        else:\n",
    "            merged.append((start, end))\n",
    "    return merged\n",
    "\n",
    "intervals = [(1,3),(2,6),(8,10),(14,16),(15,18)]\n",
    "print(f\"Input: {intervals}\")\n",
    "print(\"Merged:\", merge_intervals(intervals))"
   ]
  },
  {
   "cell_type": "markdown",
   "id": "d7d421f9",
   "metadata": {},
   "source": [
    "## Exercise 7"
   ]
  },
  {
   "cell_type": "code",
   "execution_count": 17,
   "id": "9c7aef62",
   "metadata": {},
   "outputs": [
    {
     "name": "stdout",
     "output_type": "stream",
     "text": [
      "Input: [-2, 1, -3, 4, -1, 2, 1, -5, 4]\n",
      "Maximum Subarray Sum: 6\n"
     ]
    }
   ],
   "source": [
    "# Task 7: Maximum Subarray (Kadane's Algorithm)\n",
    "def max_subarray(nums):\n",
    "    current = best = nums[0]\n",
    "    for n in nums[1:]:\n",
    "        current = max(n, current + n)\n",
    "        best = max(best, current)\n",
    "    return best\n",
    "\n",
    "arr = [-2,1,-3,4,-1,2,1,-5,4]\n",
    "print(f\"Input: {arr}\")\n",
    "print(\"Maximum Subarray Sum:\", max_subarray(arr))"
   ]
  },
  {
   "cell_type": "markdown",
   "id": "8b2db471",
   "metadata": {},
   "source": [
    "## Exercise 8"
   ]
  },
  {
   "cell_type": "code",
   "execution_count": 18,
   "id": "7b002d93",
   "metadata": {},
   "outputs": [
    {
     "name": "stdout",
     "output_type": "stream",
     "text": [
      "5 -> 4 -> 3 -> 2 -> 1\n"
     ]
    }
   ],
   "source": [
    "# Task 8: Reverse Linked List\n",
    "class ListNode:\n",
    "    def __init__(self, val):\n",
    "        self.val = val\n",
    "        self.next = None\n",
    "\n",
    "def reverse_linked_list(head):\n",
    "    prev = None\n",
    "    curr = head\n",
    "    while curr:\n",
    "        nxt = curr.next\n",
    "        curr.next = prev\n",
    "        prev = curr\n",
    "        curr = nxt\n",
    "    return prev\n",
    "\n",
    "# Example: 1->2->3->4->5\n",
    "nodes = [ListNode(i) for i in [1,2,3,4,5]]\n",
    "for i in range(len(nodes)-1):\n",
    "    nodes[i].next = nodes[i+1]\n",
    "\n",
    "rev = reverse_linked_list(nodes[0])\n",
    "out = []\n",
    "while rev:\n",
    "    out.append(str(rev.val))\n",
    "    rev = rev.next\n",
    "print(\" -> \".join(out))"
   ]
  },
  {
   "cell_type": "markdown",
   "id": "49bc04b9",
   "metadata": {},
   "source": [
    "## Exercise 9"
   ]
  },
  {
   "cell_type": "code",
   "execution_count": 21,
   "id": "b5e408a1",
   "metadata": {},
   "outputs": [
    {
     "name": "stdout",
     "output_type": "stream",
     "text": [
      "Strings: sawab_e_darain, syed darain\n",
      "Minimum Edit Distance: 7\n"
     ]
    }
   ],
   "source": [
    "# Task 9: Minimum Edit Distance (Levenshtein)\n",
    "def min_edit_distance(s1, s2):\n",
    "    m, n = len(s1), len(s2)\n",
    "    dp = [[0]*(n+1) for _ in range(m+1)]\n",
    "\n",
    "    for i in range(m+1):\n",
    "        for j in range(n+1):\n",
    "            if i == 0: dp[i][j] = j\n",
    "            elif j == 0: dp[i][j] = i\n",
    "            elif s1[i-1] == s2[j-1]:\n",
    "                dp[i][j] = dp[i-1][j-1]\n",
    "            else:\n",
    "                dp[i][j] = 1 + min(dp[i-1][j], dp[i][j-1], dp[i-1][j-1])\n",
    "    return dp[m][n]\n",
    "\n",
    "s1, s2 = \"sawab_e_darain\", \"syed darain\"\n",
    "print(f\"Strings: {s1}, {s2}\")\n",
    "print(\"Minimum Edit Distance:\", min_edit_distance(s1, s2))"
   ]
  },
  {
   "cell_type": "markdown",
   "id": "c0676e1b",
   "metadata": {},
   "source": [
    "## Exercise 10"
   ]
  },
  {
   "cell_type": "code",
   "execution_count": 29,
   "id": "48eb8ede",
   "metadata": {},
   "outputs": [
    {
     "name": "stdout",
     "output_type": "stream",
     "text": [
      "Boggle Board:\n",
      "d a r a i n\n",
      "r e b e l x\n",
      "k i d p a r\n",
      "x x x x i s\n",
      "\n",
      "Search Results:\n",
      "   paris\n",
      "   darain\n",
      "   kid\n",
      "   rebel\n"
     ]
    }
   ],
   "source": [
    "dirs = [(-1,-1),(-1,0),(-1,1),\n",
    "        (0,-1),        (0,1),\n",
    "        (1,-1),(1,0),(1,1)]\n",
    "\n",
    "def find_words(board, words):\n",
    "    found = set()\n",
    "    rows, cols = len(board), len(board[0])\n",
    "\n",
    "    def dfs(x,y,word,idx,visited):\n",
    "        if idx == len(word): \n",
    "            return True\n",
    "        if not (0 <= x < rows and 0 <= y < cols): \n",
    "            return False\n",
    "        if (x,y) in visited or board[x][y] != word[idx]: \n",
    "            return False\n",
    "\n",
    "        visited.add((x,y))\n",
    "        for dx,dy in dirs:\n",
    "            if dfs(x+dx,y+dy,word,idx+1,visited):\n",
    "                return True\n",
    "        visited.remove((x,y))\n",
    "        return False\n",
    "\n",
    "    for word in words:\n",
    "        for i in range(rows):\n",
    "            for j in range(cols):\n",
    "                if dfs(i,j,word,0,set()):\n",
    "                    found.add(word)\n",
    "    return found\n",
    "\n",
    "# Board (now valid for all words)\n",
    "board = [[\"d\",\"a\",\"r\",\"a\",\"i\",\"n\"],\n",
    "         [\"r\",\"e\",\"b\",\"e\",\"l\",\"x\"],\n",
    "         [\"k\",\"i\",\"d\",\"p\",\"a\",\"r\"],\n",
    "         [\"x\",\"x\",\"x\",\"x\",\"i\",\"s\"]]\n",
    "\n",
    "words = [\"darain\",\"rebel\",\"kid\",\"paris\"]\n",
    "\n",
    "# Print board\n",
    "print(\"Boggle Board:\")\n",
    "for row in board:\n",
    "    print(\" \".join(row))\n",
    "\n",
    "# Find words\n",
    "found_words = find_words(board, words)\n",
    "\n",
    "print(\"\\nSearch Results:\")\n",
    "if found_words:\n",
    "    for w in found_words:\n",
    "        print(\"  \", w)\n",
    "else:\n",
    "    print(\"❌ No words found.\")\n"
   ]
  },
  {
   "cell_type": "markdown",
   "id": "b46ca8a9",
   "metadata": {},
   "source": [
    "## Exercise 11"
   ]
  },
  {
   "cell_type": "code",
   "execution_count": 32,
   "id": "94376b55",
   "metadata": {},
   "outputs": [
    {
     "name": "stdout",
     "output_type": "stream",
     "text": [
      "0\n",
      "1\n",
      "1\n",
      "2\n",
      "3\n",
      "5\n",
      "8\n",
      "13\n",
      "21\n",
      "34\n",
      "55\n",
      "89\n",
      "144\n",
      "233\n"
     ]
    }
   ],
   "source": [
    "# Task 11: Fibonacci Generator\n",
    "def fibonacci(n):\n",
    "    a, b = 0, 1\n",
    "    for _ in range(n):\n",
    "        yield a\n",
    "        a, b = b, a+b\n",
    "\n",
    "for num in fibonacci(14):\n",
    "    print(num)"
   ]
  }
 ],
 "metadata": {
  "kernelspec": {
   "display_name": "Python 3",
   "language": "python",
   "name": "python3"
  },
  "language_info": {
   "codemirror_mode": {
    "name": "ipython",
    "version": 3
   },
   "file_extension": ".py",
   "mimetype": "text/x-python",
   "name": "python",
   "nbconvert_exporter": "python",
   "pygments_lexer": "ipython3",
   "version": "3.13.5"
  }
 },
 "nbformat": 4,
 "nbformat_minor": 5
}
