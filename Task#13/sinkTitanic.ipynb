{
 "cells": [
  {
   "cell_type": "code",
   "execution_count": 3,
   "id": "bb7938a0",
   "metadata": {},
   "outputs": [],
   "source": [
    "# 1 - imports and settings\n",
    "import os\n",
    "os.makedirs(\"plots\", exist_ok=True)\n",
    "\n",
    "import pandas as pd\n",
    "import numpy as np\n",
    "import matplotlib.pyplot as plt\n",
    "from sklearn.model_selection import (\n",
    "    train_test_split, StratifiedKFold, cross_val_score, validation_curve, cross_validate\n",
    ")\n",
    "from sklearn.pipeline import Pipeline\n",
    "from sklearn.compose import ColumnTransformer\n",
    "from sklearn.preprocessing import OneHotEncoder, StandardScaler\n",
    "from sklearn.linear_model import LogisticRegression\n",
    "from sklearn.tree import DecisionTreeClassifier\n",
    "from sklearn.ensemble import RandomForestClassifier, GradientBoostingClassifier\n",
    "from sklearn.svm import SVC\n",
    "from sklearn.metrics import (\n",
    "    accuracy_score, precision_score, recall_score, f1_score,\n",
    "    roc_curve, roc_auc_score, classification_report, confusion_matrix\n",
    ")\n",
    "import warnings\n",
    "warnings.filterwarnings(\"ignore\")"
   ]
  },
  {
   "cell_type": "code",
   "execution_count": 4,
   "id": "f786c29a",
   "metadata": {},
   "outputs": [
    {
     "name": "stdout",
     "output_type": "stream",
     "text": [
      "Columns: ['Age', 'Cabin', 'Embarked', 'Fare', 'Name', 'Parch', 'PassengerId', 'Pclass', 'Sex', 'SibSp', 'Survived', 'Ticket', 'Title', 'Family_Size']\n",
      "Rows after dropping missing Survived: 891\n"
     ]
    },
    {
     "data": {
      "text/html": [
       "<div>\n",
       "<style scoped>\n",
       "    .dataframe tbody tr th:only-of-type {\n",
       "        vertical-align: middle;\n",
       "    }\n",
       "\n",
       "    .dataframe tbody tr th {\n",
       "        vertical-align: top;\n",
       "    }\n",
       "\n",
       "    .dataframe thead th {\n",
       "        text-align: right;\n",
       "    }\n",
       "</style>\n",
       "<table border=\"1\" class=\"dataframe\">\n",
       "  <thead>\n",
       "    <tr style=\"text-align: right;\">\n",
       "      <th></th>\n",
       "      <th>Age</th>\n",
       "      <th>Cabin</th>\n",
       "      <th>Embarked</th>\n",
       "      <th>Fare</th>\n",
       "      <th>Name</th>\n",
       "      <th>Parch</th>\n",
       "      <th>PassengerId</th>\n",
       "      <th>Pclass</th>\n",
       "      <th>Sex</th>\n",
       "      <th>SibSp</th>\n",
       "      <th>Survived</th>\n",
       "      <th>Ticket</th>\n",
       "      <th>Title</th>\n",
       "      <th>Family_Size</th>\n",
       "    </tr>\n",
       "  </thead>\n",
       "  <tbody>\n",
       "    <tr>\n",
       "      <th>0</th>\n",
       "      <td>22.0</td>\n",
       "      <td>NaN</td>\n",
       "      <td>S</td>\n",
       "      <td>7.2500</td>\n",
       "      <td>Braund, Mr. Owen Harris</td>\n",
       "      <td>0</td>\n",
       "      <td>1</td>\n",
       "      <td>3</td>\n",
       "      <td>male</td>\n",
       "      <td>1</td>\n",
       "      <td>0.0</td>\n",
       "      <td>A/5 21171</td>\n",
       "      <td>Mr</td>\n",
       "      <td>1</td>\n",
       "    </tr>\n",
       "    <tr>\n",
       "      <th>1</th>\n",
       "      <td>38.0</td>\n",
       "      <td>C85</td>\n",
       "      <td>C</td>\n",
       "      <td>71.2833</td>\n",
       "      <td>Cumings, Mrs. John Bradley (Florence Briggs Th...</td>\n",
       "      <td>0</td>\n",
       "      <td>2</td>\n",
       "      <td>1</td>\n",
       "      <td>female</td>\n",
       "      <td>1</td>\n",
       "      <td>1.0</td>\n",
       "      <td>PC 17599</td>\n",
       "      <td>Mrs</td>\n",
       "      <td>1</td>\n",
       "    </tr>\n",
       "    <tr>\n",
       "      <th>2</th>\n",
       "      <td>26.0</td>\n",
       "      <td>NaN</td>\n",
       "      <td>S</td>\n",
       "      <td>7.9250</td>\n",
       "      <td>Heikkinen, Miss. Laina</td>\n",
       "      <td>0</td>\n",
       "      <td>3</td>\n",
       "      <td>3</td>\n",
       "      <td>female</td>\n",
       "      <td>0</td>\n",
       "      <td>1.0</td>\n",
       "      <td>STON/O2. 3101282</td>\n",
       "      <td>Miss</td>\n",
       "      <td>0</td>\n",
       "    </tr>\n",
       "    <tr>\n",
       "      <th>3</th>\n",
       "      <td>35.0</td>\n",
       "      <td>C123</td>\n",
       "      <td>S</td>\n",
       "      <td>53.1000</td>\n",
       "      <td>Futrelle, Mrs. Jacques Heath (Lily May Peel)</td>\n",
       "      <td>0</td>\n",
       "      <td>4</td>\n",
       "      <td>1</td>\n",
       "      <td>female</td>\n",
       "      <td>1</td>\n",
       "      <td>1.0</td>\n",
       "      <td>113803</td>\n",
       "      <td>Mrs</td>\n",
       "      <td>1</td>\n",
       "    </tr>\n",
       "    <tr>\n",
       "      <th>4</th>\n",
       "      <td>35.0</td>\n",
       "      <td>NaN</td>\n",
       "      <td>S</td>\n",
       "      <td>8.0500</td>\n",
       "      <td>Allen, Mr. William Henry</td>\n",
       "      <td>0</td>\n",
       "      <td>5</td>\n",
       "      <td>3</td>\n",
       "      <td>male</td>\n",
       "      <td>0</td>\n",
       "      <td>0.0</td>\n",
       "      <td>373450</td>\n",
       "      <td>Mr</td>\n",
       "      <td>0</td>\n",
       "    </tr>\n",
       "  </tbody>\n",
       "</table>\n",
       "</div>"
      ],
      "text/plain": [
       "    Age Cabin Embarked     Fare  \\\n",
       "0  22.0   NaN        S   7.2500   \n",
       "1  38.0   C85        C  71.2833   \n",
       "2  26.0   NaN        S   7.9250   \n",
       "3  35.0  C123        S  53.1000   \n",
       "4  35.0   NaN        S   8.0500   \n",
       "\n",
       "                                                Name  Parch  PassengerId  \\\n",
       "0                            Braund, Mr. Owen Harris      0            1   \n",
       "1  Cumings, Mrs. John Bradley (Florence Briggs Th...      0            2   \n",
       "2                             Heikkinen, Miss. Laina      0            3   \n",
       "3       Futrelle, Mrs. Jacques Heath (Lily May Peel)      0            4   \n",
       "4                           Allen, Mr. William Henry      0            5   \n",
       "\n",
       "   Pclass     Sex  SibSp  Survived            Ticket Title  Family_Size  \n",
       "0       3    male      1       0.0         A/5 21171    Mr            1  \n",
       "1       1  female      1       1.0          PC 17599   Mrs            1  \n",
       "2       3  female      0       1.0  STON/O2. 3101282  Miss            0  \n",
       "3       1  female      1       1.0            113803   Mrs            1  \n",
       "4       3    male      0       0.0            373450    Mr            0  "
      ]
     },
     "execution_count": 4,
     "metadata": {},
     "output_type": "execute_result"
    }
   ],
   "source": [
    "# 2 - load dataset (update path if needed)\n",
    "DATA_PATH = r\"D:\\Buildables Internship\\BuildablesDataScienceFellowship\\Task#13\\dataset\\titanic_data.csv\"\n",
    "df = pd.read_csv(DATA_PATH)\n",
    "print(\"Columns:\", df.columns.tolist())\n",
    "# Drop rows with missing target, if any\n",
    "df = df.dropna(subset=['Survived']).reset_index(drop=True)\n",
    "print(\"Rows after dropping missing Survived:\", df.shape[0])\n",
    "df.head()\n"
   ]
  },
  {
   "cell_type": "code",
   "execution_count": 6,
   "id": "8a822aea",
   "metadata": {},
   "outputs": [
    {
     "name": "stdout",
     "output_type": "stream",
     "text": [
      "Pclass      0\n",
      "Sex         0\n",
      "Age         0\n",
      "SibSp       0\n",
      "Parch       0\n",
      "Fare        0\n",
      "Embarked    0\n",
      "Survived    0\n",
      "dtype: int64\n"
     ]
    }
   ],
   "source": [
    "# 3 - preprocessing\n",
    "# keep simple, explainable features\n",
    "features = ['Pclass','Sex','Age','SibSp','Parch','Fare','Embarked']\n",
    "target = 'Survived'\n",
    "\n",
    "# Select and impute\n",
    "df = df[features + [target]].copy()\n",
    "df['Age'] = df['Age'].fillna(df['Age'].median())\n",
    "df['Fare'] = df['Fare'].fillna(df['Fare'].median())\n",
    "df['Embarked'] = df['Embarked'].fillna(df['Embarked'].mode()[0])\n",
    "\n",
    "# confirm no nulls remain\n",
    "print(df.isnull().sum())\n",
    "\n",
    "X = df[features]\n",
    "y = df[target].astype(int)\n",
    "\n",
    "numeric_features = ['Age','SibSp','Parch','Fare','Pclass']\n",
    "categorical_features = ['Sex','Embarked']\n",
    "\n",
    "numeric_transformer = Pipeline([('scaler', StandardScaler())])\n",
    "categorical_transformer = Pipeline([('onehot', OneHotEncoder(drop='first', sparse_output=False))])\n",
    "\n",
    "preprocessor = ColumnTransformer([\n",
    "    ('num', numeric_transformer, numeric_features),\n",
    "    ('cat', categorical_transformer, categorical_features),\n",
    "])\n"
   ]
  },
  {
   "cell_type": "markdown",
   "id": "8b2e90b7",
   "metadata": {},
   "source": [
    "### Insight: I had to drop the rows where the target was missing since the model can’t learn from them, and for other missing values I just filled them using median/mode so things stay consistent without messing up the training."
   ]
  },
  {
   "cell_type": "code",
   "execution_count": 7,
   "id": "09e14ffe",
   "metadata": {},
   "outputs": [
    {
     "name": "stdout",
     "output_type": "stream",
     "text": [
      "LR - single-split metrics: {'accuracy': 0.8100558659217877, 'precision': 0.7966101694915254, 'recall': 0.6811594202898551, 'f1': 0.734375}\n",
      "LR - 5-fold CV accuracy scores: [0.78212291 0.80337079 0.78651685 0.79213483 0.81460674]\n",
      "LR - mean CV accuracy: 0.7957504237022158\n"
     ]
    }
   ],
   "source": [
    "# 4 - Logistic Regression single-split vs CV\n",
    "X_train, X_test, y_train, y_test = train_test_split(X, y, test_size=0.2, stratify=y, random_state=42)\n",
    "\n",
    "lr = Pipeline([('preprocess', preprocessor), ('clf', LogisticRegression(max_iter=1000))])\n",
    "lr.fit(X_train, y_train)\n",
    "\n",
    "y_pred = lr.predict(X_test)\n",
    "single_metrics_lr = {\n",
    "    'accuracy': accuracy_score(y_test, y_pred),\n",
    "    'precision': precision_score(y_test, y_pred),\n",
    "    'recall': recall_score(y_test, y_pred),\n",
    "    'f1': f1_score(y_test, y_pred)\n",
    "}\n",
    "\n",
    "cv = StratifiedKFold(n_splits=5, shuffle=True, random_state=42)\n",
    "cv_scores = cross_val_score(lr, X, y, cv=cv, scoring='accuracy')\n",
    "\n",
    "print(\"LR - single-split metrics:\", single_metrics_lr)\n",
    "print(\"LR - 5-fold CV accuracy scores:\", cv_scores)\n",
    "print(\"LR - mean CV accuracy:\", np.mean(cv_scores))\n"
   ]
  },
  {
   "cell_type": "markdown",
   "id": "15e3386e",
   "metadata": {},
   "source": [
    "### Insight: Using cross-validation is better than just one random split since it gives a more stable and reliable idea of how the model will actually perform."
   ]
  },
  {
   "cell_type": "code",
   "execution_count": 8,
   "id": "f044fc48",
   "metadata": {},
   "outputs": [
    {
     "data": {
      "image/png": "[encoded data removed]",
      "text/plain": [
       "<Figure size 640x480 with 1 Axes>"
      ]
     },
     "metadata": {},
     "output_type": "display_data"
    },
    {
     "name": "stdout",
     "output_type": "stream",
     "text": [
      "Optimal depth (validation): 3\n"
     ]
    }
   ],
   "source": [
    "# 5 - decision tree validation curve (bias-variance)\n",
    "depths = np.arange(1, 16)   # 1..15 is usually enough\n",
    "X_pre = preprocessor.fit_transform(X)   # validation_curve needs array input\n",
    "train_scores, val_scores = validation_curve(\n",
    "    DecisionTreeClassifier(random_state=42),\n",
    "    X_pre, y,\n",
    "    param_name='max_depth',\n",
    "    param_range=depths,\n",
    "    cv=StratifiedKFold(n_splits=5, shuffle=True, random_state=42),\n",
    "    scoring='accuracy',\n",
    "    n_jobs=1\n",
    ")\n",
    "train_mean = train_scores.mean(axis=1)\n",
    "val_mean = val_scores.mean(axis=1)\n",
    "\n",
    "plt.figure()\n",
    "plt.plot(depths, train_mean, label='training accuracy')\n",
    "plt.plot(depths, val_mean, label='validation accuracy')\n",
    "plt.xlabel('max_depth')\n",
    "plt.ylabel('accuracy')\n",
    "plt.legend()\n",
    "plt.title('Decision Tree: training vs validation accuracy by max_depth')\n",
    "plt.savefig(\"plots/dt_depth_plot.png\")\n",
    "plt.show()\n",
    "\n",
    "opt_idx = np.argmax(val_mean)\n",
    "opt_depth = depths[opt_idx]\n",
    "print(\"Optimal depth (validation):\", opt_depth)\n"
   ]
  },
  {
   "cell_type": "markdown",
   "id": "39ded268",
   "metadata": {},
   "source": [
    "### Insight: If the tree is too shallow it underfits, if it’s too deep it overfits, so the validation curve helps find the depth where accuracy is at its best, and that optimal depth is at 3 (as shown by graph)"
   ]
  },
  {
   "cell_type": "code",
   "execution_count": 9,
   "id": "25a3e3a8",
   "metadata": {},
   "outputs": [
    {
     "name": "stdout",
     "output_type": "stream",
     "text": [
      "Classification report (LR on single split):\n",
      "              precision    recall  f1-score   support\n",
      "\n",
      "           0     0.8167    0.8909    0.8522       110\n",
      "           1     0.7966    0.6812    0.7344        69\n",
      "\n",
      "    accuracy                         0.8101       179\n",
      "   macro avg     0.8066    0.7860    0.7933       179\n",
      "weighted avg     0.8089    0.8101    0.8068       179\n",
      "\n",
      "Confusion matrix:\n",
      " [[98 12]\n",
      " [22 47]]\n"
     ]
    }
   ],
   "source": [
    "# 6 - LR detailed metrics on single split\n",
    "print(\"Classification report (LR on single split):\")\n",
    "print(classification_report(y_test, y_pred, digits=4))\n",
    "print(\"Confusion matrix:\\n\", confusion_matrix(y_test, y_pred))\n"
   ]
  },
  {
   "cell_type": "markdown",
   "id": "448a34fd",
   "metadata": {},
   "source": [
    "### Insight: Precision and recall show if the model is leaning more toward predicting survivors or non-survivors, and F1 score gives a balance between the two."
   ]
  },
  {
   "cell_type": "code",
   "execution_count": 10,
   "id": "d53cb1fa",
   "metadata": {},
   "outputs": [
    {
     "data": {
      "image/png": "[encoded data removed]",
      "text/plain": [
       "<Figure size 640x480 with 1 Axes>"
      ]
     },
     "metadata": {},
     "output_type": "display_data"
    },
    {
     "name": "stdout",
     "output_type": "stream",
     "text": [
      "DT AUC: 0.818445322793149\n"
     ]
    }
   ],
   "source": [
    "# 7 - DT ROC and AUC\n",
    "best_dt = Pipeline([('preprocess', preprocessor), ('clf', DecisionTreeClassifier(max_depth=int(opt_depth), random_state=42))])\n",
    "best_dt.fit(X_train, y_train)\n",
    "dt_probs = best_dt.predict_proba(X_test)[:,1]\n",
    "\n",
    "fpr, tpr, _ = roc_curve(y_test, dt_probs)\n",
    "dt_auc = roc_auc_score(y_test, dt_probs)\n",
    "plt.figure()\n",
    "plt.plot(fpr, tpr)\n",
    "plt.plot([0,1],[0,1], linestyle='--')\n",
    "plt.xlabel('False Positive Rate')\n",
    "plt.ylabel('True Positive Rate')\n",
    "plt.title(f'Decision Tree ROC (AUC = {dt_auc:.4f})')\n",
    "plt.savefig(\"plots/dt_roc.png\")\n",
    "plt.show()\n",
    "print(\"DT AUC:\", dt_auc)\n"
   ]
  },
  {
   "cell_type": "markdown",
   "id": "2c7fea5a",
   "metadata": {},
   "source": [
    "### Insight: The ROC curve shows the decision tree has an AUC of about 0.818, meaning it can separate survivors and non-survivors pretty well and performs better than plain accuracy for imbalanced data."
   ]
  },
  {
   "cell_type": "code",
   "execution_count": 11,
   "id": "b76ab5a5",
   "metadata": {},
   "outputs": [
    {
     "name": "stdout",
     "output_type": "stream",
     "text": [
      "DT single-split metrics: {'accuracy': 0.7932960893854749, 'precision': 0.8636363636363636, 'recall': 0.5507246376811594, 'f1': 0.672566371681416}\n",
      "LR single-split metrics: {'accuracy': 0.8100558659217877, 'precision': 0.7966101694915254, 'recall': 0.6811594202898551, 'f1': 0.734375}\n",
      "LR CV summary: {'test_accuracy': (np.float64(0.7957504237022158), np.float64(0.011812461523642926)), 'test_precision': (np.float64(0.7526015475478622), np.float64(0.022066287411552893)), 'test_recall': (np.float64(0.6986786018755329), np.float64(0.03661484586135776))}\n",
      "DT CV summary: {'test_accuracy': (np.float64(0.8260247316552632), np.float64(0.016022377906993478)), 'test_precision': (np.float64(0.8087620405801689), np.float64(0.016963149007849888)), 'test_recall': (np.float64(0.7160699062233589), np.float64(0.0493734955591122))}\n"
     ]
    }
   ],
   "source": [
    "# 8 - compare LR and DT single-split vs CV\n",
    "# single-split metrics for DT:\n",
    "dt_preds_single = best_dt.predict(X_test)\n",
    "dt_single_metrics = {\n",
    "    'accuracy': accuracy_score(y_test, dt_preds_single),\n",
    "    'precision': precision_score(y_test, dt_preds_single),\n",
    "    'recall': recall_score(y_test, dt_preds_single),\n",
    "    'f1': f1_score(y_test, dt_preds_single)\n",
    "}\n",
    "print(\"DT single-split metrics:\", dt_single_metrics)\n",
    "print(\"LR single-split metrics:\", single_metrics_lr)\n",
    "\n",
    "# cross-validated summaries\n",
    "scoring = ['accuracy','precision','recall']\n",
    "lr_cv = cross_validate(lr, X, y, cv=cv, scoring=scoring)\n",
    "dt_cv = cross_validate(Pipeline([('preprocess', preprocessor), ('clf', DecisionTreeClassifier(max_depth=int(opt_depth), random_state=42))]), X, y, cv=cv, scoring=scoring)\n",
    "\n",
    "def cv_summary(res):\n",
    "    return {k: (np.mean(v), np.std(v)) for k, v in res.items() if k.startswith('test_')}\n",
    "\n",
    "print(\"LR CV summary:\", cv_summary(lr_cv))\n",
    "print(\"DT CV summary:\", cv_summary(dt_cv))\n"
   ]
  },
  {
   "cell_type": "markdown",
   "id": "9ef02482",
   "metadata": {},
   "source": [
    "### Insight: The single-split results made LR look slightly better, but cross-validation shows DT is actually stronger overall with more stable accuracy, precision, and recall, proving CV gives a fairer comparison than relying on one split."
   ]
  },
  {
   "cell_type": "code",
   "execution_count": 12,
   "id": "3f7cbedb",
   "metadata": {},
   "outputs": [
    {
     "name": "stdout",
     "output_type": "stream",
     "text": [
      "Random Forest CV summary (mean, std):\n",
      "{'test_accuracy': (np.float64(0.8159123721047015), np.float64(0.016675513098743464)), 'test_precision': (np.float64(0.7707399052560342), np.float64(0.03225463676676792)), 'test_recall': (np.float64(0.7427109974424553), np.float64(0.0285644661928178)), 'test_f1': (np.float64(0.7559092330347346), np.float64(0.021728460894439177))}\n"
     ]
    }
   ],
   "source": [
    "# 9 - random forest CV\n",
    "rf = Pipeline([('preprocess', preprocessor), ('clf', RandomForestClassifier(n_estimators=100, random_state=42))])\n",
    "rf_cv = cross_validate(rf, X, y, cv=cv, scoring=['accuracy','precision','recall','f1'])\n",
    "rf_summary = {k: (np.mean(v), np.std(v)) for k, v in rf_cv.items() if k.startswith('test_')}\n",
    "print(\"Random Forest CV summary (mean, std):\")\n",
    "print(rf_summary)\n"
   ]
  },
  {
   "cell_type": "markdown",
   "id": "133a75c0",
   "metadata": {},
   "source": [
    "### Insight: The random forest CV results show solid accuracy with small standard deviations, meaning the model stays stable and consistent compared to single decision trees."
   ]
  },
  {
   "cell_type": "code",
   "execution_count": 13,
   "id": "339e960d",
   "metadata": {},
   "outputs": [
    {
     "name": "stdout",
     "output_type": "stream",
     "text": [
      "   n_estimators  learning_rate  mean_acc   std_acc\n",
      "1           100           0.10  0.840619  0.016213\n",
      "0            50           0.10  0.838353  0.016302\n",
      "2           100           0.05  0.834988  0.016750\n"
     ]
    }
   ],
   "source": [
    "# 10 - gradient boosting grid (small grid to keep runtime reasonable)\n",
    "configs = [\n",
    "    (50, 0.1),\n",
    "    (100, 0.1),\n",
    "    (100, 0.05)\n",
    "]\n",
    "gb_results = []\n",
    "for n_est, lr in configs:\n",
    "    gb = Pipeline([('preprocess', preprocessor), ('clf', GradientBoostingClassifier(n_estimators=n_est, learning_rate=lr, random_state=42))])\n",
    "    scores = cross_val_score(gb, X, y, cv=cv, scoring='accuracy')\n",
    "    gb_results.append({'n_estimators': n_est, 'learning_rate': lr, 'mean_acc': scores.mean(), 'std_acc': scores.std()})\n",
    "\n",
    "gb_df = pd.DataFrame(gb_results).sort_values(by='mean_acc', ascending=False)\n",
    "print(gb_df)\n"
   ]
  },
  {
   "cell_type": "markdown",
   "id": "2f07f431",
   "metadata": {},
   "source": [
    "### Insight: The results show that with 100 estimators and a 0.1 learning rate, boosting gave the best accuracy, while lowering the learning rate to 0.05 slightly dropped performance."
   ]
  },
  {
   "cell_type": "code",
   "execution_count": 14,
   "id": "c147d830",
   "metadata": {},
   "outputs": [
    {
     "name": "stdout",
     "output_type": "stream",
     "text": [
      "Random Forest single-split metrics:\n",
      "accuracy 0.7988826815642458\n",
      "precision 0.7704918032786885\n",
      "recall 0.6811594202898551\n",
      "f1 0.7230769230769231\n"
     ]
    }
   ],
   "source": [
    "# 11 - RF metrics on single split\n",
    "rf_single = Pipeline([('preprocess', preprocessor), ('clf', RandomForestClassifier(n_estimators=100, random_state=42))])\n",
    "rf_single.fit(X_train, y_train)\n",
    "rf_preds = rf_single.predict(X_test)\n",
    "print(\"Random Forest single-split metrics:\")\n",
    "print(\"accuracy\", accuracy_score(y_test, rf_preds))\n",
    "print(\"precision\", precision_score(y_test, rf_preds))\n",
    "print(\"recall\", recall_score(y_test, rf_preds))\n",
    "print(\"f1\", f1_score(y_test, rf_preds))\n"
   ]
  },
  {
   "cell_type": "markdown",
   "id": "e7dafd1d",
   "metadata": {},
   "source": [
    "### Insight: The random forest single-split shows decent accuracy with higher precision than recall, meaning it catches survivors less often but is usually correct when it predicts one."
   ]
  },
  {
   "cell_type": "code",
   "execution_count": 15,
   "id": "9819f93d",
   "metadata": {},
   "outputs": [
    {
     "data": {
      "image/png": "[encoded data removed]",
      "text/plain": [
       "<Figure size 640x480 with 1 Axes>"
      ]
     },
     "metadata": {},
     "output_type": "display_data"
    },
    {
     "name": "stdout",
     "output_type": "stream",
     "text": [
      "GB AUC: 0.8306324110671938\n"
     ]
    }
   ],
   "source": [
    "# 12 - ROC and AUC for best GB in the grid (choose top entry)\n",
    "best_gb_cfg = gb_df.iloc[0]\n",
    "gb_best = Pipeline([('preprocess', preprocessor),\n",
    "                    ('clf', GradientBoostingClassifier(n_estimators=int(best_gb_cfg['n_estimators']),\n",
    "                                                       learning_rate=float(best_gb_cfg['learning_rate']),\n",
    "                                                       random_state=42))])\n",
    "gb_best.fit(X_train, y_train)\n",
    "gb_probs = gb_best.predict_proba(X_test)[:,1]\n",
    "fpr_g, tpr_g, _ = roc_curve(y_test, gb_probs)\n",
    "gb_auc = roc_auc_score(y_test, gb_probs)\n",
    "\n",
    "plt.figure()\n",
    "plt.plot(fpr_g, tpr_g)\n",
    "plt.plot([0,1],[0,1], linestyle='--')\n",
    "plt.xlabel('FPR'); plt.ylabel('TPR')\n",
    "plt.title(f'Gradient Boosting ROC (AUC = {gb_auc:.4f})')\n",
    "plt.savefig(\"plots/gb_roc.png\")\n",
    "plt.show()\n",
    "print(\"GB AUC:\", gb_auc)\n"
   ]
  },
  {
   "cell_type": "markdown",
   "id": "5acd12cb",
   "metadata": {},
   "source": [
    "### Insight: The gradient boosting model reached an AUC of about 0.83, showing it ranks survivors vs non-survivors quite well, independent of any single threshold choice."
   ]
  },
  {
   "cell_type": "code",
   "execution_count": 16,
   "id": "2af84188",
   "metadata": {},
   "outputs": [
    {
     "name": "stdout",
     "output_type": "stream",
     "text": [
      "              model  accuracy_mean  precision_mean  recall_mean   f1_mean\n",
      "2  GradientBoosting       0.840619        0.848838     0.713384  0.773973\n",
      "0               SVM       0.827129        0.820811     0.704561  0.757437\n",
      "1      RandomForest       0.815912        0.770740     0.742711  0.755909\n"
     ]
    }
   ],
   "source": [
    "# 13 - compare SVM, RF, GB via cross-validation\n",
    "svc = Pipeline([('preprocess', preprocessor), ('clf', SVC(probability=True, random_state=42))])\n",
    "rf = Pipeline([('preprocess', preprocessor), ('clf', RandomForestClassifier(n_estimators=100, random_state=42))])\n",
    "gb = Pipeline([('preprocess', preprocessor), ('clf', GradientBoostingClassifier(n_estimators=int(best_gb_cfg['n_estimators']),\n",
    "                                                                                 learning_rate=float(best_gb_cfg['learning_rate']),\n",
    "                                                                                 random_state=42))])\n",
    "\n",
    "models = {'SVM': svc, 'RandomForest': rf, 'GradientBoosting': gb}\n",
    "comparison = []\n",
    "scoring = ['accuracy','precision','recall','f1']\n",
    "for name, m in models.items():\n",
    "    res = cross_validate(m, X, y, cv=cv, scoring=scoring)\n",
    "    comparison.append({\n",
    "        'model': name,\n",
    "        'accuracy_mean': res['test_accuracy'].mean(),\n",
    "        'precision_mean': res['test_precision'].mean(),\n",
    "        'recall_mean': res['test_recall'].mean(),\n",
    "        'f1_mean': res['test_f1'].mean()\n",
    "    })\n",
    "\n",
    "comparison_df = pd.DataFrame(comparison).sort_values(by='accuracy_mean', ascending=False)\n",
    "print(comparison_df)\n"
   ]
  },
  {
   "cell_type": "markdown",
   "id": "28ca7559",
   "metadata": {},
   "source": [
    "### Insight: Gradient Boosting came out on top with the best balance of accuracy, precision, recall, and F1, making it the most reliable choice compared to SVM and Random Forest."
   ]
  },
  {
   "cell_type": "code",
   "execution_count": 17,
   "id": "b297b06a",
   "metadata": {},
   "outputs": [
    {
     "name": "stdout",
     "output_type": "stream",
     "text": [
      "{\n",
      "  \"logistic_regression_single_split\": {\n",
      "    \"accuracy\": 0.8100558659217877,\n",
      "    \"precision\": 0.7966101694915254,\n",
      "    \"recall\": 0.6811594202898551,\n",
      "    \"f1\": 0.734375\n",
      "  },\n",
      "  \"logistic_regression_cv_mean_accuracy\": 0.7957504237022158,\n",
      "  \"optimal_tree_depth_by_validation\": 3,\n",
      "  \"decision_tree_auc\": 0.818445322793149,\n",
      "  \"best_gb_config\": {\n",
      "    \"n_estimators\": 100.0,\n",
      "    \"learning_rate\": 0.1,\n",
      "    \"mean_acc\": 0.8406189190885694,\n",
      "    \"std_acc\": 0.016212620385489977\n",
      "  },\n",
      "  \"gradient_boosting_auc\": 0.8306324110671938,\n",
      "  \"random_forest_cv_summary\": {\n",
      "    \"test_accuracy\": [\n",
      "      0.8379888268156425,\n",
      "      0.8202247191011236\n",
      "    ],\n",
      "    \"test_precision\": [\n",
      "      0.8225806451612904,\n",
      "      0.75\n",
      "    ],\n",
      "    \"test_recall\": [\n",
      "      0.7391304347826086,\n",
      "      0.7941176470588235\n",
      "    ],\n",
      "    \"test_f1\": [\n",
      "      0.7786259541984732,\n",
      "      0.7714285714285715\n",
      "    ]\n",
      "  },\n",
      "  \"model_comparison_cv\": [\n",
      "    {\n",
      "      \"model\": \"GradientBoosting\",\n",
      "      \"accuracy_mean\": 0.8406189190885694,\n",
      "      \"precision_mean\": 0.8488378781054017,\n",
      "      \"recall_mean\": 0.713384484228474,\n",
      "      \"f1_mean\": 0.7739728682170542\n",
      "    },\n",
      "    {\n",
      "      \"model\": \"SVM\",\n",
      "      \"accuracy_mean\": 0.82712949595129,\n",
      "      \"precision_mean\": 0.8208106896242491,\n",
      "      \"recall_mean\": 0.7045609548167093,\n",
      "      \"f1_mean\": 0.7574366141132546\n",
      "    },\n",
      "    {\n",
      "      \"model\": \"RandomForest\",\n",
      "      \"accuracy_mean\": 0.8159123721047015,\n",
      "      \"precision_mean\": 0.7707399052560342,\n",
      "      \"recall_mean\": 0.7427109974424553,\n",
      "      \"f1_mean\": 0.7559092330347346\n",
      "    }\n",
      "  ]\n",
      "}\n"
     ]
    }
   ],
   "source": [
    "# 14 - finalize summary (values you can copy into your report)\n",
    "summary = {\n",
    "    'logistic_regression_single_split': single_metrics_lr,\n",
    "    'logistic_regression_cv_mean_accuracy': float(np.mean(cv_scores)),\n",
    "    'optimal_tree_depth_by_validation': int(opt_depth),\n",
    "    'decision_tree_auc': float(dt_auc),\n",
    "    'best_gb_config': best_gb_cfg.to_dict(),\n",
    "    'gradient_boosting_auc': float(gb_auc),\n",
    "    'random_forest_cv_summary': {k: (float(v[0]), float(v[1])) for k,v in rf_cv.items() if k.startswith('test_')},\n",
    "    'model_comparison_cv': comparison_df.to_dict(orient='records')\n",
    "}\n",
    "import json\n",
    "print(json.dumps(summary, indent=2))\n"
   ]
  },
  {
   "cell_type": "markdown",
   "id": "ea73e69f",
   "metadata": {},
   "source": [
    "### Insight: The results show that single-split accuracy alone (like LR’s 0.81) can be misleading, while cross-validation with multiple metrics makes it clear that Gradient Boosting is the strongest overall, backed by both higher accuracy and solid AUC."
   ]
  }
 ],
 "metadata": {
  "kernelspec": {
   "display_name": "Python 3",
   "language": "python",
   "name": "python3"
  },
  "language_info": {
   "codemirror_mode": {
    "name": "ipython",
    "version": 3
   },
   "file_extension": ".py",
   "mimetype": "text/x-python",
   "name": "python",
   "nbconvert_exporter": "python",
   "pygments_lexer": "ipython3",
   "version": "3.13.5"
  }
 },
 "nbformat": 4,
 "nbformat_minor": 5
}
