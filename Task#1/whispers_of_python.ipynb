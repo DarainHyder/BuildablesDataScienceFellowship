{
 "cells": [
  {
   "cell_type": "markdown",
   "id": "906b2177",
   "metadata": {},
   "source": [
    "## Exercise 1"
   ]
  },
  {
   "cell_type": "code",
   "execution_count": 7,
   "id": "83b925d7",
   "metadata": {},
   "outputs": [
    {
     "name": "stdout",
     "output_type": "stream",
     "text": [
      "Enter first number: 12.0\n",
      "Enter second number: 14.0\n",
      "The sum is: 26.0\n"
     ]
    }
   ],
   "source": [
    "# Exercise: Sum of Two Numbers\n",
    "a = float(input(\"Enter first number: \"))\n",
    "b = float(input(\"Enter second number: \"))\n",
    "\n",
    "print(f\"Enter first number: {a}\")\n",
    "print(f\"Enter second number: {b}\")\n",
    "print(f\"The sum is: {a + b}\")\n"
   ]
  },
  {
   "cell_type": "markdown",
   "id": "1b051f10",
   "metadata": {},
   "source": [
    "## Exercise 2"
   ]
  },
  {
   "cell_type": "code",
   "execution_count": 10,
   "id": "affbb160",
   "metadata": {},
   "outputs": [
    {
     "name": "stdout",
     "output_type": "stream",
     "text": [
      "Enter the radius of the circle: 5.0\n",
      "The area of the circle is: 78.53981633974483\n"
     ]
    }
   ],
   "source": [
    "# Exercise: Area of a Circle\n",
    "import math\n",
    "while True:\n",
    "    user_input = input(\"Enter the radius of the circle: \")\n",
    "    try:\n",
    "        radius = float(user_input)\n",
    "        break\n",
    "    except ValueError:\n",
    "        print(\"Please enter a valid number for the radius.\")\n",
    "\n",
    "print(f\"Enter the radius of the circle: {radius}\")\n",
    "print(f\"The area of the circle is: {math.pi * radius**2}\")"
   ]
  },
  {
   "cell_type": "markdown",
   "id": "583bbb11",
   "metadata": {},
   "source": [
    "## Exercise 3"
   ]
  },
  {
   "cell_type": "code",
   "execution_count": 11,
   "id": "471071e7",
   "metadata": {},
   "outputs": [
    {
     "name": "stdout",
     "output_type": "stream",
     "text": [
      "Enter a number: 21\n",
      "21 is odd\n"
     ]
    }
   ],
   "source": [
    "# Exercise: Even or Odd\n",
    "num = int(input(\"Enter a number: \"))\n",
    "print(f\"Enter a number: {num}\")\n",
    "print(f\"{num} is {'even' if num % 2 == 0 else 'odd'}\")\n"
   ]
  },
  {
   "cell_type": "markdown",
   "id": "96158581",
   "metadata": {},
   "source": [
    "## Exercise 4"
   ]
  },
  {
   "cell_type": "code",
   "execution_count": 12,
   "id": "f8615c73",
   "metadata": {},
   "outputs": [
    {
     "name": "stdout",
     "output_type": "stream",
     "text": [
      "Enter first number: 21.0\n",
      "Enter second number: 12.0\n",
      "Enter operation (+, -, *, /): /\n",
      "The result is: 1.75\n"
     ]
    }
   ],
   "source": [
    "# Exercise: Simple Calculator\n",
    "x = float(input(\"Enter first number: \"))\n",
    "y = float(input(\"Enter second number: \"))\n",
    "op = input(\"Enter operation (+, -, *, /): \")\n",
    "\n",
    "print(f\"Enter first number: {x}\")\n",
    "print(f\"Enter second number: {y}\")\n",
    "print(f\"Enter operation (+, -, *, /): {op}\")\n",
    "\n",
    "if op == \"+\":\n",
    "    result = x + y\n",
    "elif op == \"-\":\n",
    "    result = x - y\n",
    "elif op == \"*\":\n",
    "    result = x * y\n",
    "elif op == \"/\":\n",
    "    result = x / y if y != 0 else \"undefined (division by zero)\"\n",
    "else:\n",
    "    result = \"Invalid operation\"\n",
    "\n",
    "print(f\"The result is: {result}\")\n"
   ]
  },
  {
   "cell_type": "markdown",
   "id": "7fd13178",
   "metadata": {},
   "source": [
    "## Exercise 5"
   ]
  },
  {
   "cell_type": "code",
   "execution_count": 13,
   "id": "3cb39f95",
   "metadata": {},
   "outputs": [
    {
     "name": "stdout",
     "output_type": "stream",
     "text": [
      "Enter first number: 7.0\n",
      "Enter second number: 14.0\n",
      "Enter third number: 21.0\n",
      "The largest number is: 21.0\n"
     ]
    }
   ],
   "source": [
    "# Exercise: Find the Largest Number\n",
    "n1 = float(input(\"Enter first number: \"))\n",
    "n2 = float(input(\"Enter second number: \"))\n",
    "n3 = float(input(\"Enter third number: \"))\n",
    "\n",
    "print(f\"Enter first number: {n1}\")\n",
    "print(f\"Enter second number: {n2}\")\n",
    "print(f\"Enter third number: {n3}\")\n",
    "\n",
    "largest = max(n1, n2, n3)\n",
    "print(f\"The largest number is: {largest}\")\n"
   ]
  },
  {
   "cell_type": "markdown",
   "id": "7061075d",
   "metadata": {},
   "source": [
    "## Exercise 6"
   ]
  },
  {
   "cell_type": "code",
   "execution_count": 14,
   "id": "d41a784d",
   "metadata": {},
   "outputs": [
    {
     "name": "stdout",
     "output_type": "stream",
     "text": [
      "Enter a string: My name is Syed Darain Hyder Kazmi a.k.a sawab_e_darain\n",
      "The reversed string is: niarad_e_bawas a.k.a imzaK redyH niaraD deyS si eman yM\n"
     ]
    }
   ],
   "source": [
    "# Exercise: Reverse a String\n",
    "text = input(\"Enter a string: \")\n",
    "\n",
    "print(f\"Enter a string: {text}\")\n",
    "print(f\"The reversed string is: {text[::-1]}\")"
   ]
  },
  {
   "cell_type": "markdown",
   "id": "6bb5c10c",
   "metadata": {},
   "source": [
    "## Exercise 7"
   ]
  },
  {
   "cell_type": "code",
   "execution_count": 15,
   "id": "e2d77b03",
   "metadata": {},
   "outputs": [
    {
     "name": "stdout",
     "output_type": "stream",
     "text": [
      "Enter a string: Hola Amigos! Mi nombre es sawab_e_darain\n",
      "The number of vowels is: 15\n"
     ]
    }
   ],
   "source": [
    "# Exercise: Count Vowels\n",
    "s = input(\"Enter a string: \")\n",
    "\n",
    "print(f\"Enter a string: {s}\")\n",
    "vowels = \"aeiouAEIOU\"\n",
    "count = sum(1 for ch in s if ch in vowels)\n",
    "print(f\"The number of vowels is: {count}\")"
   ]
  },
  {
   "cell_type": "markdown",
   "id": "014f1dad",
   "metadata": {},
   "source": [
    "## Exercise 8"
   ]
  },
  {
   "cell_type": "code",
   "execution_count": 16,
   "id": "a7a83670",
   "metadata": {},
   "outputs": [
    {
     "name": "stdout",
     "output_type": "stream",
     "text": [
      "How many terms? 12\n",
      "Fibonacci sequence:\n",
      "0 1 1 2 3 5 8 13 21 34 55 89 \n"
     ]
    }
   ],
   "source": [
    "# Exercise: Fibonacci Sequence\n",
    "n = int(input(\"How many terms? \"))\n",
    "\n",
    "print(f\"How many terms? {n}\")\n",
    "print(\"Fibonacci sequence:\")\n",
    "a, b = 0, 1\n",
    "for _ in range(n):\n",
    "    print(a, end=\" \")\n",
    "    a, b = b, a + b\n",
    "print()  # move to new line after sequence"
   ]
  },
  {
   "cell_type": "markdown",
   "id": "f0906195",
   "metadata": {},
   "source": [
    "## Exercise 9"
   ]
  },
  {
   "cell_type": "code",
   "execution_count": 17,
   "id": "2bdf10a6",
   "metadata": {},
   "outputs": [
    {
     "name": "stdout",
     "output_type": "stream",
     "text": [
      "Enter a string: Hola again! \n",
      "Hola again!  is not a palindrome\n"
     ]
    }
   ],
   "source": [
    "# Exercise: Check for Palindrome\n",
    "word = input(\"Enter a string: \")\n",
    "\n",
    "print(f\"Enter a string: {word}\")\n",
    "if word == word[::-1]:\n",
    "    print(f\"{word} is a palindrome\")\n",
    "else:\n",
    "    print(f\"{word} is not a palindrome\")\n"
   ]
  }
 ],
 "metadata": {
  "kernelspec": {
   "display_name": "Python 3",
   "language": "python",
   "name": "python3"
  },
  "language_info": {
   "codemirror_mode": {
    "name": "ipython",
    "version": 3
   },
   "file_extension": ".py",
   "mimetype": "text/x-python",
   "name": "python",
   "nbconvert_exporter": "python",
   "pygments_lexer": "ipython3",
   "version": "3.13.5"
  }
 },
 "nbformat": 4,
 "nbformat_minor": 5
}
